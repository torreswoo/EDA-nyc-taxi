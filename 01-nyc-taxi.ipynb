{
 "cells": [
  {
   "cell_type": "code",
   "execution_count": 1,
   "metadata": {},
   "outputs": [
    {
     "name": "stdout",
     "output_type": "stream",
     "text": [
      "Untitled.ipynb                \u001b[1m\u001b[36mlab\u001b[m\u001b[m\r\n",
      "jupyter_nbconvert_config.json migrated\r\n",
      "jupyter_notebook_config.json  \u001b[1m\u001b[36mnbconfig\u001b[m\u001b[m\r\n",
      "jupyter_notebook_config.py\r\n"
     ]
    }
   ],
   "source": [
    "!ls"
   ]
  },
  {
   "cell_type": "code",
   "execution_count": 3,
   "metadata": {},
   "outputs": [
    {
     "name": "stdout",
     "output_type": "stream",
     "text": [
      "--2019-08-14 11:19:26--  https://raw.githubusercontent.com/ipython-books/minibook-2nd-data/master/nyc_taxi.zip\n",
      "Resolving raw.githubusercontent.com (raw.githubusercontent.com)... 151.101.228.133\n",
      "Connecting to raw.githubusercontent.com (raw.githubusercontent.com)|151.101.228.133|:443... connected.\n",
      "HTTP request sent, awaiting response... 200 OK\n",
      "Length: 91078102 (87M) [application/zip]\n",
      "Saving to: ‘nyc_taxi.zip’\n",
      "\n",
      "nyc_taxi.zip        100%[===================>]  86.86M  1.46MB/s    in 2m 9s   \n",
      "\n",
      "2019-08-14 11:21:40 (687 KB/s) - ‘nyc_taxi.zip’ saved [91078102/91078102]\n",
      "\n"
     ]
    }
   ],
   "source": [
    "!wget https://raw.githubusercontent.com/ipython-books/minibook-2nd-data/master/nyc_taxi.zip"
   ]
  },
  {
   "cell_type": "code",
   "execution_count": 4,
   "metadata": {},
   "outputs": [
    {
     "name": "stdout",
     "output_type": "stream",
     "text": [
      "Archive:  nyc_taxi.zip\n",
      "   creating: data/\n",
      "  inflating: data/nyc_data.csv       \n",
      "  inflating: data/nyc_fare.csv       \n"
     ]
    }
   ],
   "source": [
    "!unzip nyc_taxi.zip"
   ]
  },
  {
   "cell_type": "code",
   "execution_count": 10,
   "metadata": {},
   "outputs": [],
   "source": [
    "# library"
   ]
  },
  {
   "cell_type": "code",
   "execution_count": 38,
   "metadata": {},
   "outputs": [
    {
     "name": "stdout",
     "output_type": "stream",
     "text": [
      "Requirement already satisfied: numpy in /Users/torres.woo/.pyenv/versions/3.6.5/lib/python3.6/site-packages (1.16.1)\n",
      "Requirement already satisfied: pandas in /Users/torres.woo/.pyenv/versions/3.6.5/lib/python3.6/site-packages (0.24.1)\n",
      "Requirement already satisfied: matplotlib in /Users/torres.woo/.pyenv/versions/3.6.5/lib/python3.6/site-packages (3.1.1)\n",
      "Requirement already satisfied: pytz>=2011k in /Users/torres.woo/.pyenv/versions/3.6.5/lib/python3.6/site-packages (from pandas) (2018.9)\n",
      "Requirement already satisfied: python-dateutil>=2.5.0 in /Users/torres.woo/.pyenv/versions/3.6.5/lib/python3.6/site-packages (from pandas) (2.8.0)\n",
      "Requirement already satisfied: pyparsing!=2.0.4,!=2.1.2,!=2.1.6,>=2.0.1 in /Users/torres.woo/.pyenv/versions/3.6.5/lib/python3.6/site-packages (from matplotlib) (2.4.2)\n",
      "Requirement already satisfied: kiwisolver>=1.0.1 in /Users/torres.woo/.pyenv/versions/3.6.5/lib/python3.6/site-packages (from matplotlib) (1.1.0)\n",
      "Requirement already satisfied: cycler>=0.10 in /Users/torres.woo/.pyenv/versions/3.6.5/lib/python3.6/site-packages (from matplotlib) (0.10.0)\n",
      "Requirement already satisfied: six>=1.5 in /Users/torres.woo/.pyenv/versions/3.6.5/lib/python3.6/site-packages (from python-dateutil>=2.5.0->pandas) (1.12.0)\n",
      "Requirement already satisfied: setuptools in /Users/torres.woo/.pyenv/versions/3.6.5/lib/python3.6/site-packages (from kiwisolver>=1.0.1->matplotlib) (40.8.0)\n",
      "\u001b[33mYou are using pip version 19.0.1, however version 19.2.2 is available.\n",
      "You should consider upgrading via the 'pip install --upgrade pip' command.\u001b[0m\n",
      "Note: you may need to restart the kernel to use updated packages.\n"
     ]
    }
   ],
   "source": [
    "pip install numpy pandas matplotlib"
   ]
  },
  {
   "cell_type": "code",
   "execution_count": 39,
   "metadata": {},
   "outputs": [],
   "source": [
    "import numpy as np\n",
    "import pandas as pd\n",
    "import matplotlib.pyplot as plt\n",
    "%matplotlib inline"
   ]
  },
  {
   "cell_type": "code",
   "execution_count": 40,
   "metadata": {},
   "outputs": [],
   "source": [
    "# Data EDA"
   ]
  },
  {
   "cell_type": "code",
   "execution_count": 41,
   "metadata": {},
   "outputs": [],
   "source": [
    "data_file = 'data/nyc_data.csv'\n",
    "data = pd.read_csv(data_file, parse_dates=['pickup_datetime', 'dropoff_datetime'])"
   ]
  },
  {
   "cell_type": "code",
   "execution_count": 42,
   "metadata": {},
   "outputs": [
    {
     "data": {
      "text/plain": [
       "(846945, 14)"
      ]
     },
     "execution_count": 42,
     "metadata": {},
     "output_type": "execute_result"
    }
   ],
   "source": [
    "data.shape"
   ]
  },
  {
   "cell_type": "code",
   "execution_count": 43,
   "metadata": {},
   "outputs": [
    {
     "data": {
      "text/html": [
       "<div>\n",
       "<style scoped>\n",
       "    .dataframe tbody tr th:only-of-type {\n",
       "        vertical-align: middle;\n",
       "    }\n",
       "\n",
       "    .dataframe tbody tr th {\n",
       "        vertical-align: top;\n",
       "    }\n",
       "\n",
       "    .dataframe thead th {\n",
       "        text-align: right;\n",
       "    }\n",
       "</style>\n",
       "<table border=\"1\" class=\"dataframe\">\n",
       "  <thead>\n",
       "    <tr style=\"text-align: right;\">\n",
       "      <th></th>\n",
       "      <th>medallion</th>\n",
       "      <th>hack_license</th>\n",
       "      <th>vendor_id</th>\n",
       "      <th>rate_code</th>\n",
       "      <th>store_and_fwd_flag</th>\n",
       "      <th>pickup_datetime</th>\n",
       "      <th>dropoff_datetime</th>\n",
       "      <th>passenger_count</th>\n",
       "      <th>trip_time_in_secs</th>\n",
       "      <th>trip_distance</th>\n",
       "      <th>pickup_longitude</th>\n",
       "      <th>pickup_latitude</th>\n",
       "      <th>dropoff_longitude</th>\n",
       "      <th>dropoff_latitude</th>\n",
       "    </tr>\n",
       "  </thead>\n",
       "  <tbody>\n",
       "    <tr>\n",
       "      <th>0</th>\n",
       "      <td>76942C3205E17D7E7FE5A9F709D16434</td>\n",
       "      <td>25BA06A87905667AA1FE5990E33F0E2E</td>\n",
       "      <td>VTS</td>\n",
       "      <td>1</td>\n",
       "      <td>NaN</td>\n",
       "      <td>2013-01-01 00:00:00</td>\n",
       "      <td>2013-01-01 00:05:00</td>\n",
       "      <td>3</td>\n",
       "      <td>300</td>\n",
       "      <td>0.61</td>\n",
       "      <td>-73.955925</td>\n",
       "      <td>40.781887</td>\n",
       "      <td>-73.963181</td>\n",
       "      <td>40.777832</td>\n",
       "    </tr>\n",
       "    <tr>\n",
       "      <th>1</th>\n",
       "      <td>517C6B330DBB3F055D007B07512628B3</td>\n",
       "      <td>2C19FBEE1A6E05612EFE4C958C14BC7F</td>\n",
       "      <td>VTS</td>\n",
       "      <td>1</td>\n",
       "      <td>NaN</td>\n",
       "      <td>2013-01-01 00:05:00</td>\n",
       "      <td>2013-01-01 00:21:00</td>\n",
       "      <td>1</td>\n",
       "      <td>960</td>\n",
       "      <td>3.28</td>\n",
       "      <td>-74.005501</td>\n",
       "      <td>40.745735</td>\n",
       "      <td>-73.964943</td>\n",
       "      <td>40.755722</td>\n",
       "    </tr>\n",
       "    <tr>\n",
       "      <th>2</th>\n",
       "      <td>ED15611F168E41B33619C83D900FE266</td>\n",
       "      <td>754AEBD7C80DA17BA1D81D89FB6F4D1D</td>\n",
       "      <td>CMT</td>\n",
       "      <td>1</td>\n",
       "      <td>N</td>\n",
       "      <td>2013-01-01 00:05:52</td>\n",
       "      <td>2013-01-01 00:12:18</td>\n",
       "      <td>1</td>\n",
       "      <td>386</td>\n",
       "      <td>1.50</td>\n",
       "      <td>-73.969955</td>\n",
       "      <td>40.799770</td>\n",
       "      <td>-73.954567</td>\n",
       "      <td>40.787392</td>\n",
       "    </tr>\n",
       "    <tr>\n",
       "      <th>3</th>\n",
       "      <td>B33E704CC189E80C9671230C16527BBC</td>\n",
       "      <td>6789C77E1CBDC850C450D72204702976</td>\n",
       "      <td>VTS</td>\n",
       "      <td>1</td>\n",
       "      <td>NaN</td>\n",
       "      <td>2013-01-01 00:06:00</td>\n",
       "      <td>2013-01-01 00:06:00</td>\n",
       "      <td>6</td>\n",
       "      <td>0</td>\n",
       "      <td>0.00</td>\n",
       "      <td>-73.991432</td>\n",
       "      <td>40.755081</td>\n",
       "      <td>-73.991417</td>\n",
       "      <td>40.755085</td>\n",
       "    </tr>\n",
       "    <tr>\n",
       "      <th>4</th>\n",
       "      <td>BD5CC6A22D05EB2D5C8235526A2A4276</td>\n",
       "      <td>5E8F2C93B5220A922699FEBAFC2F7A54</td>\n",
       "      <td>VTS</td>\n",
       "      <td>1</td>\n",
       "      <td>NaN</td>\n",
       "      <td>2013-01-01 00:06:00</td>\n",
       "      <td>2013-01-01 00:12:00</td>\n",
       "      <td>2</td>\n",
       "      <td>360</td>\n",
       "      <td>1.31</td>\n",
       "      <td>-73.966225</td>\n",
       "      <td>40.773716</td>\n",
       "      <td>-73.955399</td>\n",
       "      <td>40.782597</td>\n",
       "    </tr>\n",
       "  </tbody>\n",
       "</table>\n",
       "</div>"
      ],
      "text/plain": [
       "                          medallion                      hack_license  \\\n",
       "0  76942C3205E17D7E7FE5A9F709D16434  25BA06A87905667AA1FE5990E33F0E2E   \n",
       "1  517C6B330DBB3F055D007B07512628B3  2C19FBEE1A6E05612EFE4C958C14BC7F   \n",
       "2  ED15611F168E41B33619C83D900FE266  754AEBD7C80DA17BA1D81D89FB6F4D1D   \n",
       "3  B33E704CC189E80C9671230C16527BBC  6789C77E1CBDC850C450D72204702976   \n",
       "4  BD5CC6A22D05EB2D5C8235526A2A4276  5E8F2C93B5220A922699FEBAFC2F7A54   \n",
       "\n",
       "  vendor_id  rate_code store_and_fwd_flag     pickup_datetime  \\\n",
       "0       VTS          1                NaN 2013-01-01 00:00:00   \n",
       "1       VTS          1                NaN 2013-01-01 00:05:00   \n",
       "2       CMT          1                  N 2013-01-01 00:05:52   \n",
       "3       VTS          1                NaN 2013-01-01 00:06:00   \n",
       "4       VTS          1                NaN 2013-01-01 00:06:00   \n",
       "\n",
       "     dropoff_datetime  passenger_count  trip_time_in_secs  trip_distance  \\\n",
       "0 2013-01-01 00:05:00                3                300           0.61   \n",
       "1 2013-01-01 00:21:00                1                960           3.28   \n",
       "2 2013-01-01 00:12:18                1                386           1.50   \n",
       "3 2013-01-01 00:06:00                6                  0           0.00   \n",
       "4 2013-01-01 00:12:00                2                360           1.31   \n",
       "\n",
       "   pickup_longitude  pickup_latitude  dropoff_longitude  dropoff_latitude  \n",
       "0        -73.955925        40.781887         -73.963181         40.777832  \n",
       "1        -74.005501        40.745735         -73.964943         40.755722  \n",
       "2        -73.969955        40.799770         -73.954567         40.787392  \n",
       "3        -73.991432        40.755081         -73.991417         40.755085  \n",
       "4        -73.966225        40.773716         -73.955399         40.782597  "
      ]
     },
     "execution_count": 43,
     "metadata": {},
     "output_type": "execute_result"
    }
   ],
   "source": [
    "data.head()"
   ]
  },
  {
   "cell_type": "code",
   "execution_count": 44,
   "metadata": {},
   "outputs": [
    {
     "name": "stdout",
     "output_type": "stream",
     "text": [
      "<class 'pandas.core.frame.DataFrame'>\n",
      "RangeIndex: 846945 entries, 0 to 846944\n",
      "Data columns (total 14 columns):\n",
      "medallion             846945 non-null object\n",
      "hack_license          846945 non-null object\n",
      "vendor_id             846945 non-null object\n",
      "rate_code             846945 non-null int64\n",
      "store_and_fwd_flag    424577 non-null object\n",
      "pickup_datetime       846945 non-null datetime64[ns]\n",
      "dropoff_datetime      846945 non-null datetime64[ns]\n",
      "passenger_count       846945 non-null int64\n",
      "trip_time_in_secs     846945 non-null int64\n",
      "trip_distance         846945 non-null float64\n",
      "pickup_longitude      846945 non-null float64\n",
      "pickup_latitude       846945 non-null float64\n",
      "dropoff_longitude     846945 non-null float64\n",
      "dropoff_latitude      846945 non-null float64\n",
      "dtypes: datetime64[ns](2), float64(5), int64(3), object(4)\n",
      "memory usage: 90.5+ MB\n"
     ]
    }
   ],
   "source": [
    "data.info()"
   ]
  },
  {
   "cell_type": "code",
   "execution_count": 45,
   "metadata": {},
   "outputs": [
    {
     "data": {
      "text/plain": [
       "<bound method NDFrame.describe of                                medallion                      hack_license  \\\n",
       "0       76942C3205E17D7E7FE5A9F709D16434  25BA06A87905667AA1FE5990E33F0E2E   \n",
       "1       517C6B330DBB3F055D007B07512628B3  2C19FBEE1A6E05612EFE4C958C14BC7F   \n",
       "2       ED15611F168E41B33619C83D900FE266  754AEBD7C80DA17BA1D81D89FB6F4D1D   \n",
       "3       B33E704CC189E80C9671230C16527BBC  6789C77E1CBDC850C450D72204702976   \n",
       "4       BD5CC6A22D05EB2D5C8235526A2A4276  5E8F2C93B5220A922699FEBAFC2F7A54   \n",
       "5       61E558C4FCB0BCB8562FC37B06B97FFE  76DC5E351A0E646679BCA84B18B37B9A   \n",
       "6       36EDC01D57A6489E2DEE50734ECB327D  35E93075DA51FFDEFA6B3FA0C49A0C70   \n",
       "7       131162C7685521FA81608D3C42E4EF29  A1C3B89CD387ABD20F337A2DA15F88D7   \n",
       "8       22467390B5CCC51FD1B12659F6084B2F  12EED5AC20F50C538A3C9F3270A63EFA   \n",
       "9       939D5E5E9555C02F0DB5B4B4F2D6BCBC  0413E28D43093EFA4044A8D30B84DAF6   \n",
       "10      1C5F0E003DD46B10FD994E4F324CB976  90903E9E4577BDED080692E8BBCBC2B4   \n",
       "11      6C04634A9482DAF6D72A6D6142034704  3C179F8593A900D2D00AA3A351AF807F   \n",
       "12      204BAB16D3382C5A5711068B28E624C2  0FBF11956EE14B253F7FEA8160C31CDB   \n",
       "13      C6B18485E735FCF9B7E32AC7B1DAD3ED  8DA9C0428A748E09EFE79A7CCC465BF8   \n",
       "14      6941E9EA4BCD679F7F2F6053F8150195  06AEBED6CB1BFA3360F629826E88EC8F   \n",
       "15      BC41253BA5B3EA6228EC1357F3F1097D  F5DD9CAC89A91C277CCF864A32F40383   \n",
       "16      1C08FE0C57A4606D1AD5D63AAAEAB229  AFC75912D19C0CB0D48A34412F0E03ED   \n",
       "17      F3272C936A648041DF7E5AE7401C3E5B  BA82DF988C332B43794FE3EBC78F7D50   \n",
       "18      B7AF7D33EC1A1F20A1BD34EBC94AFAEA  46CA16E8B77FE2899F50347542068244   \n",
       "19      4ABC293960F1A9187B8282CBBB023056  976B8E20D1E0BCDA37E8314FDB8047DC   \n",
       "20      7257A55FFAB4C29F08A9A40F510FC2B6  E3590A87560D47E221285458CEAC02E2   \n",
       "21      8EE28DA9049CC06587FBBD00AFA9A221  AFB2CCDBF58CEFC7B5B05524A5112EA2   \n",
       "22      CD5A34827F6540D83DCEBBCBFCC59EC2  94CDBDF615C2F39AEDE2BBCADF8A0CC7   \n",
       "23      33FC059CD9AE26A3C190DFDDC50C9461  DC52FFAE7BF06EEA8390A5BD0F1F4A6A   \n",
       "24      5D80E9532646508F4AAC2455980EA18D  0BAECEFE5A63EDEA80F90E8E7B410CA2   \n",
       "25      503170A5E7444EB68B4C67DD0A56D745  6CEA1D04D2D05C3EDEE60D9A7DC41B0F   \n",
       "26      2D01A7FBF9D1C91E0EB6FF0D4AA846F1  7F3EFA5D86AFE72003EBEAF7FB4C73A2   \n",
       "27      30310C2A443F8752FFAF19ED26658B37  F84CC815AA4A1137264854438AD61DE0   \n",
       "28      3F0E768DAA2BC7BB4E7A017728B10750  6CA3C62C733110B1FCEAB5D123AF0780   \n",
       "29      ED89DB0ADD066F67C35F4902F1377CD4  F4AB11D00CC15EB1457E93AF2D142092   \n",
       "...                                  ...                               ...   \n",
       "846915  B17BC338EB62DCD82B7C0CEA024233CE  EE6FBA6954B409182D70D2E8D9153FEC   \n",
       "846916  D7E28BAB071965FBBE4EF0B081C06CE2  2AA329FDF3F477561084CDA1A536BE35   \n",
       "846917  DC757F88C465D6D94E8C7BD67E9D41B9  2631838E5613F69B51877BE2493A0166   \n",
       "846918  69B9FC90EB1AC480E57A1CB2CC545B4C  2E2AEDA150C8CB395E6488C1C89936E0   \n",
       "846919  F6598FF44AD4DF37290C437DCC998DB7  E5D267C504CEE513D5A240426180599A   \n",
       "846920  9A2D1E3BE679DD64802451282AE870FF  C7D30521F63EE37046B70CBB142220AA   \n",
       "846921  7B858DEA24A14489080FAA39764D3430  0423DE320FAADD1A3FD70266F1EB844B   \n",
       "846922  889230A3561FAED3590C258FDDB97620  4D42F0EB603CC39CCD21473A14FB5E6E   \n",
       "846923  134C3CAAA5859560F798B06511C4A2C4  FCD53E903813D7C132F6C75F353AF1D8   \n",
       "846924  12DB9C4237F50D77F4D529C308E404DE  79E24A2DF8B0694BD6FC782F174746FD   \n",
       "846925  56F5FA82A315C8E58E017A775D471C5A  6D9E54409F3E9F367BDCDA0895D7B574   \n",
       "846926  EB616B8EB4F3FD3A3DC578AEC0A73B8E  5FBB8BB5329B9E865727E4777F8CE91F   \n",
       "846927  3B1A31779BCE30367D00C6F7911573C0  FA68CBFB2302017FCEFE18F09EB90E81   \n",
       "846928  9942485368EAA9E9EB577DCE616A1EF3  68BF1F384860C3A51ECDACBD82730D2F   \n",
       "846929  5B12A0C50955E1C67E9B3169D04B66AA  83FA30C442892382E027522232388E56   \n",
       "846930  643BCD4BF222EFADCB8D7DAAAB097251  C00587622849F0BA2F250F7AAEFD74D6   \n",
       "846931  4CE86360E1793A4AEE628020320ACCDD  7F21312E0D3EE7C5A7CC589D75D4DCC9   \n",
       "846932  B94FC976AA80935B3D978C872D8BDCA5  BCEBE59F0F75FEF4E3CBD8D7FDD076B0   \n",
       "846933  729B76EF50532552464CD102A0F078A9  44A5B6393EAEE031BF66F8DE52CA3E9D   \n",
       "846934  6502AF8DFACB2ED1E98C8E19E1F9B1FD  1ED371A61D0AB42F4B3247EAD296D49A   \n",
       "846935  A2F52BBDD3B76EACDC5DB4A8030B661B  18E0F4F112D4D4F8CD33F122F59D42CC   \n",
       "846936  6D9C2E4EAC8F6A5C7D3102177BC42C03  8F589F68DC4B16219F46A1A6098A4BDB   \n",
       "846937  74394B7A3DC952E218DF570EEDB5DF23  E91A10EE3AE09F70873190F6DD989A32   \n",
       "846938  7471AFEAB6E8BB32CEF56F652E6F6085  625D42B5977173CFA4948A776ABDAA0B   \n",
       "846939  F8317FADB346A30B44CF0DB7EDA718AF  73E8FFE6D1EA6E6923E29D103FAF1E93   \n",
       "846940  9F29B1D177C67F2731E69EAA85D49367  5500334F780132AC7D883F01F869212E   \n",
       "846941  C76AB9E3B27A5CC4F7087CFB109F51AE  6B8BA824723DE0DAB63B980B1DC843CE   \n",
       "846942  D87EB3AD2ED303B3D92E37D871B2C2E9  F578F0435B49B3D7B9A7AAFC663A82CD   \n",
       "846943  F74743D90F84644B1FA4576F4A82A8A3  537121DB04EC62BADFA44D8F03755A64   \n",
       "846944  E5DCEBA68A6094576B10AFC609C61E29  735F78FA4CB06B5CB7122FF31822F68E   \n",
       "\n",
       "       vendor_id  rate_code store_and_fwd_flag     pickup_datetime  \\\n",
       "0            VTS          1                NaN 2013-01-01 00:00:00   \n",
       "1            VTS          1                NaN 2013-01-01 00:05:00   \n",
       "2            CMT          1                  N 2013-01-01 00:05:52   \n",
       "3            VTS          1                NaN 2013-01-01 00:06:00   \n",
       "4            VTS          1                NaN 2013-01-01 00:06:00   \n",
       "5            VTS          1                NaN 2013-01-01 00:07:00   \n",
       "6            VTS          1                NaN 2013-01-01 00:08:00   \n",
       "7            CMT          1                  N 2013-01-01 00:08:38   \n",
       "8            VTS          1                NaN 2013-01-01 00:09:00   \n",
       "9            CMT          1                  N 2013-01-01 00:09:32   \n",
       "10           CMT          1                  N 2013-01-01 00:09:32   \n",
       "11           CMT          1                  N 2013-01-01 00:09:39   \n",
       "12           VTS          1                NaN 2013-01-01 00:10:00   \n",
       "13           VTS          1                NaN 2013-01-01 00:10:00   \n",
       "14           CMT          1                  N 2013-01-01 00:10:00   \n",
       "15           CMT          4                  N 2013-01-01 00:11:31   \n",
       "16           CMT          1                  N 2013-01-01 00:11:54   \n",
       "17           VTS          1                NaN 2013-01-01 00:12:00   \n",
       "18           VTS          1                NaN 2013-01-01 00:12:00   \n",
       "19           CMT          1                  N 2013-01-01 00:13:25   \n",
       "20           CMT          1                  N 2013-01-01 00:13:38   \n",
       "21           VTS          1                NaN 2013-01-01 00:14:00   \n",
       "22           VTS          1                NaN 2013-01-01 00:14:00   \n",
       "23           CMT          1                  N 2013-01-01 00:14:20   \n",
       "24           CMT          1                  N 2013-01-01 00:14:50   \n",
       "25           VTS          1                NaN 2013-01-01 00:15:00   \n",
       "26           VTS          1                NaN 2013-01-01 00:16:00   \n",
       "27           CMT          1                  N 2013-01-01 00:16:19   \n",
       "28           CMT          1                  N 2013-01-01 00:16:31   \n",
       "29           VTS          1                NaN 2013-01-01 00:17:00   \n",
       "...          ...        ...                ...                 ...   \n",
       "846915       VTS          1                NaN 2013-12-31 23:36:00   \n",
       "846916       CMT          1                  N 2013-12-31 23:37:09   \n",
       "846917       VTS          1                NaN 2013-12-31 23:38:00   \n",
       "846918       CMT          1                  N 2013-12-31 23:38:46   \n",
       "846919       VTS          1                NaN 2013-12-31 23:40:00   \n",
       "846920       CMT          1                  N 2013-12-31 23:40:17   \n",
       "846921       VTS          1                NaN 2013-12-31 23:41:00   \n",
       "846922       VTS          1                NaN 2013-12-31 23:41:00   \n",
       "846923       VTS          1                NaN 2013-12-31 23:42:00   \n",
       "846924       CMT          1                  N 2013-12-31 23:42:34   \n",
       "846925       VTS          1                NaN 2013-12-31 23:43:00   \n",
       "846926       VTS          1                NaN 2013-12-31 23:44:00   \n",
       "846927       VTS          1                NaN 2013-12-31 23:44:00   \n",
       "846928       VTS          1                NaN 2013-12-31 23:44:00   \n",
       "846929       CMT          1                  N 2013-12-31 23:44:06   \n",
       "846930       CMT          1                  N 2013-12-31 23:44:55   \n",
       "846931       CMT          1                  N 2013-12-31 23:45:34   \n",
       "846932       CMT          1                  N 2013-12-31 23:45:38   \n",
       "846933       CMT          1                  N 2013-12-31 23:45:42   \n",
       "846934       CMT          1                  N 2013-12-31 23:45:53   \n",
       "846935       VTS          1                NaN 2013-12-31 23:46:00   \n",
       "846936       VTS          1                NaN 2013-12-31 23:47:00   \n",
       "846937       CMT          1                  N 2013-12-31 23:48:38   \n",
       "846938       CMT          1                  N 2013-12-31 23:48:57   \n",
       "846939       CMT          1                  N 2013-12-31 23:50:10   \n",
       "846940       CMT          1                  N 2013-12-31 23:51:41   \n",
       "846941       CMT          1                  N 2013-12-31 23:54:00   \n",
       "846942       VTS          1                NaN 2013-12-31 23:59:00   \n",
       "846943       VTS          1                NaN 2013-12-31 23:59:00   \n",
       "846944       CMT          1                  N 2013-12-31 23:59:24   \n",
       "\n",
       "          dropoff_datetime  passenger_count  trip_time_in_secs  trip_distance  \\\n",
       "0      2013-01-01 00:05:00                3                300           0.61   \n",
       "1      2013-01-01 00:21:00                1                960           3.28   \n",
       "2      2013-01-01 00:12:18                1                386           1.50   \n",
       "3      2013-01-01 00:06:00                6                  0           0.00   \n",
       "4      2013-01-01 00:12:00                2                360           1.31   \n",
       "5      2013-01-01 00:34:00                1               1620           5.81   \n",
       "6      2013-01-01 00:15:00                5                420           1.25   \n",
       "7      2013-01-01 00:18:20                2                581           1.80   \n",
       "8      2013-01-01 00:20:00                1                660           1.79   \n",
       "9      2013-01-01 00:19:58                1                625           1.70   \n",
       "10     2013-01-01 00:23:02                4                809           4.40   \n",
       "11     2013-01-01 00:24:15                1                876           5.70   \n",
       "12     2013-01-01 00:29:00                2               1140           5.67   \n",
       "13     2013-01-01 00:41:00                1               1860           7.10   \n",
       "14     2013-01-01 00:22:05                2                725           3.80   \n",
       "15     2013-01-01 00:45:47                1               2056           3.50   \n",
       "16     2013-01-01 00:15:34                2                220           0.60   \n",
       "17     2013-01-01 00:23:00                1                660           2.84   \n",
       "18     2013-01-01 00:25:00                1                780           1.09   \n",
       "19     2013-01-01 00:29:41                1                975           6.60   \n",
       "20     2013-01-01 00:21:57                1                498           2.50   \n",
       "21     2013-01-01 00:21:00                5                420           2.12   \n",
       "22     2013-01-01 00:36:00                1               1320           5.46   \n",
       "23     2013-01-01 00:22:08                1                468           0.60   \n",
       "24     2013-01-01 00:37:55                2               1384           2.70   \n",
       "25     2013-01-01 00:35:00                6               1200           3.88   \n",
       "26     2013-01-01 00:26:00                2                600           2.28   \n",
       "27     2013-01-01 00:25:38                1                558           3.90   \n",
       "28     2013-01-01 00:28:49                1                737           1.60   \n",
       "29     2013-01-01 00:35:00                1               1080           4.52   \n",
       "...                    ...              ...                ...            ...   \n",
       "846915 2013-12-31 23:43:00                1                420           2.14   \n",
       "846916 2013-12-31 23:40:11                1                182           0.80   \n",
       "846917 2013-12-31 23:51:00                2                780           6.44   \n",
       "846918 2013-12-31 23:52:55                1                848           4.10   \n",
       "846919 2013-12-31 23:43:00                1                180           1.08   \n",
       "846920 2013-12-31 23:56:35                1                978           3.50   \n",
       "846921 2013-12-31 23:49:00                1                480           1.51   \n",
       "846922 2013-12-31 23:44:00                6                180           0.64   \n",
       "846923 2014-01-01 00:11:00                1               1740          16.05   \n",
       "846924 2013-12-31 23:45:08                1                153           0.30   \n",
       "846925 2013-12-31 23:54:00                3                660           2.00   \n",
       "846926 2013-12-31 23:46:00                1                120           0.66   \n",
       "846927 2013-12-31 23:46:00                2                120           0.64   \n",
       "846928 2013-12-31 23:47:00                6                180           0.43   \n",
       "846929 2013-12-31 23:46:01                1                115           0.10   \n",
       "846930 2013-12-31 23:48:20                3                204           0.60   \n",
       "846931 2013-12-31 23:50:33                1                299           0.90   \n",
       "846932 2014-01-01 00:00:05                1                867           3.30   \n",
       "846933 2013-12-31 23:48:52                2                190           0.60   \n",
       "846934 2013-12-31 23:50:09                1                256           0.80   \n",
       "846935 2013-12-31 23:54:00                2                480           2.60   \n",
       "846936 2013-12-31 23:54:00                6                420           1.54   \n",
       "846937 2013-12-31 23:55:20                2                401           2.30   \n",
       "846938 2013-12-31 23:58:13                4                555           1.40   \n",
       "846939 2013-12-31 23:52:32                2                141           0.70   \n",
       "846940 2013-12-31 23:57:50                1                368           1.60   \n",
       "846941 2014-01-01 00:09:06                1                906           9.80   \n",
       "846942 2014-01-01 00:05:00                1                360           2.23   \n",
       "846943 2014-01-01 00:08:00                1                540           1.76   \n",
       "846944 2014-01-01 00:22:26                1               1381           4.50   \n",
       "\n",
       "        pickup_longitude  pickup_latitude  dropoff_longitude  dropoff_latitude  \n",
       "0             -73.955925        40.781887         -73.963181         40.777832  \n",
       "1             -74.005501        40.745735         -73.964943         40.755722  \n",
       "2             -73.969955        40.799770         -73.954567         40.787392  \n",
       "3             -73.991432        40.755081         -73.991417         40.755085  \n",
       "4             -73.966225        40.773716         -73.955399         40.782597  \n",
       "5             -73.955238        40.768978         -73.994064         40.720299  \n",
       "6             -73.985580        40.752197         -73.988777         40.737244  \n",
       "7             -73.999413        40.730137         -73.983047         40.741844  \n",
       "8             -73.992180        40.738644         -73.973099         40.749355  \n",
       "9             -74.006554        40.740540         -73.980469         40.730408  \n",
       "10            -73.972473        40.756424         -73.942612         40.809990  \n",
       "11            -74.007263        40.713177         -73.920410         40.706745  \n",
       "12            -73.984589        40.742928         -73.963608         40.675621  \n",
       "13            -73.987991        40.764706         -73.987076         40.736557  \n",
       "14            -74.006111        40.723415         -73.965141         40.686752  \n",
       "15            -73.988693        40.768929         -73.984711         40.732773  \n",
       "16            -73.982094        40.751724         -73.973045         40.746899  \n",
       "17            -73.976822        40.749283         -73.948647         40.773895  \n",
       "18            -73.978676        40.741100         -73.991379         40.748871  \n",
       "19            -73.986336        40.763973         -73.939468         40.834305  \n",
       "20            -73.969917        40.753067         -73.988152         40.722668  \n",
       "21            -73.954521        40.765720         -73.954247         40.787071  \n",
       "22            -74.002953        40.733608         -73.950157         40.780563  \n",
       "23            -74.006683        40.740002         -74.000900         40.743477  \n",
       "24            -73.974174        40.762859         -73.987358         40.730019  \n",
       "25            -73.979942        40.755161         -73.963882         40.792236  \n",
       "26            -73.970970        40.765041         -73.978104         40.741669  \n",
       "27            -73.988281        40.723495         -73.956184         40.772121  \n",
       "28            -73.997452        40.736504         -73.977928         40.745602  \n",
       "29            -73.981506        40.778492         -73.939995         40.806686  \n",
       "...                  ...              ...                ...               ...  \n",
       "846915        -74.010689        40.721607         -73.995461         40.744942  \n",
       "846916        -73.982697        40.731232         -73.974731         40.741997  \n",
       "846917        -73.977768        40.773766         -73.938026         40.847858  \n",
       "846918        -74.016182        40.715004         -73.989395         40.763706  \n",
       "846919        -73.951698        40.766407         -73.948784         40.777748  \n",
       "846920        -73.951981        40.777802         -73.996124         40.764004  \n",
       "846921        -73.987846        40.738510         -73.974915         40.756165  \n",
       "846922        -73.984886        40.736427         -73.990402         40.729088  \n",
       "846923        -73.953316        40.779636         -73.831665         40.691845  \n",
       "846924        -73.987709        40.719723         -73.992050         40.717606  \n",
       "846925        -73.969978        40.752960         -73.993202         40.741653  \n",
       "846926        -73.985458        40.752167         -73.985512         40.745575  \n",
       "846927        -73.982651        40.673527         -73.988297         40.666821  \n",
       "846928        -73.996460        40.750988         -74.002800         40.752052  \n",
       "846929        -73.972366        40.786549         -73.969658         40.785542  \n",
       "846930        -73.980141        40.780659         -73.980873         40.786770  \n",
       "846931        -73.987236        40.719746         -73.989853         40.728706  \n",
       "846932        -74.005722        40.741180         -73.969414         40.763233  \n",
       "846933        -73.970688        40.796059         -73.965393         40.802006  \n",
       "846934        -73.993156        40.722553         -74.001846         40.730255  \n",
       "846935        -73.952888        40.776558         -73.977577         40.745575  \n",
       "846936        -73.927185        40.806778         -73.951378         40.810059  \n",
       "846937        -73.974609        40.748402         -73.962830         40.774895  \n",
       "846938        -73.977196        40.742863         -73.993950         40.752422  \n",
       "846939        -73.973480        40.795177         -73.974670         40.788231  \n",
       "846940        -73.992058        40.750126         -73.987114         40.733604  \n",
       "846941        -73.994949        40.769096         -73.898994         40.869537  \n",
       "846942        -73.993492        40.729347         -74.013725         40.702332  \n",
       "846943        -73.978477        40.772945         -73.963814         40.773922  \n",
       "846944        -73.987206        40.750568         -73.970909         40.795815  \n",
       "\n",
       "[846945 rows x 14 columns]>"
      ]
     },
     "execution_count": 45,
     "metadata": {},
     "output_type": "execute_result"
    }
   ],
   "source": [
    "data.describe"
   ]
  },
  {
   "cell_type": "code",
   "execution_count": 46,
   "metadata": {},
   "outputs": [
    {
     "data": {
      "text/plain": [
       "<matplotlib.collections.PathCollection at 0x14fd834e0>"
      ]
     },
     "execution_count": 46,
     "metadata": {},
     "output_type": "execute_result"
    },
    {
     "data": {
      "image/png": "[encoded data removed]",
      "text/plain": [
       "<Figure size 432x288 with 1 Axes>"
      ]
     },
     "metadata": {
      "needs_background": "light"
     },
     "output_type": "display_data"
    }
   ],
   "source": [
    "p_lng = data.pickup_longitude\n",
    "p_lat = data.pickup_latitude\n",
    "d_lng = data.dropoff_longitude\n",
    "d_lat = data.dropoff_latitude\n",
    "\n",
    "def lat_lng_to_pixels(lat, lng):\n",
    "  lat_rad = lat * np.pi / 180.0\n",
    "  lat_rad - np.log(np.tan((lat_rad + np.pi/2.0)/2.0))\n",
    "  x = 100*(lng+180.0)/360.0\n",
    "  y = 100*(lat_rad - np.pi) / (2.0*np.pi)\n",
    "  return (x, y)\n",
    "\n",
    "px, py = lat_lng_to_pixels(p_lat, p_lng)\n",
    "plt.scatter(px, py)"
   ]
  },
  {
   "cell_type": "code",
   "execution_count": 47,
   "metadata": {},
   "outputs": [
    {
     "data": {
      "text/plain": [
       "(-38.68, -38.67)"
      ]
     },
     "execution_count": 47,
     "metadata": {},
     "output_type": "execute_result"
    },
    {
     "data": {
      "image/png": "[encoded data removed]",
      "text/plain": [
       "<Figure size 504x360 with 1 Axes>"
      ]
     },
     "metadata": {
      "needs_background": "light"
     },
     "output_type": "display_data"
    }
   ],
   "source": [
    "plt.figure(figsize=(7,5))\n",
    "plt.scatter(px, py, s=1, alpha=0.14)\n",
    "plt.axis('equal')\n",
    "plt.xlim(29.43, 29.50)\n",
    "plt.ylim(-38.68, -38.67)\n",
    "# plt.axis('off')"
   ]
  },
  {
   "cell_type": "code",
   "execution_count": null,
   "metadata": {},
   "outputs": [],
   "source": []
  },
  {
   "cell_type": "code",
   "execution_count": null,
   "metadata": {},
   "outputs": [],
   "source": []
  },
  {
   "cell_type": "code",
   "execution_count": null,
   "metadata": {},
   "outputs": [],
   "source": []
  },
  {
   "cell_type": "code",
   "execution_count": null,
   "metadata": {},
   "outputs": [],
   "source": []
  },
  {
   "cell_type": "code",
   "execution_count": null,
   "metadata": {},
   "outputs": [],
   "source": []
  },
  {
   "cell_type": "code",
   "execution_count": null,
   "metadata": {},
   "outputs": [],
   "source": []
  },
  {
   "cell_type": "code",
   "execution_count": null,
   "metadata": {},
   "outputs": [],
   "source": []
  }
 ],
 "metadata": {
  "kernelspec": {
   "display_name": "Python 3",
   "language": "python",
   "name": "python3"
  },
  "language_info": {
   "codemirror_mode": {
    "name": "ipython",
    "version": 3
   },
   "file_extension": ".py",
   "mimetype": "text/x-python",
   "name": "python",
   "nbconvert_exporter": "python",
   "pygments_lexer": "ipython3",
   "version": "3.6.5"
  }
 },
 "nbformat": 4,
 "nbformat_minor": 2
}
